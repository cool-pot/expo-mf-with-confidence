{
 "cells": [
  {
   "cell_type": "code",
   "execution_count": 1,
   "metadata": {
    "collapsed": true
   },
   "outputs": [],
   "source": [
    "#!/usr/bin/env python2\n",
    "# -*- coding: utf-8 -*-\n",
    "\"\"\"\n",
    "Created on Mon May 15 23:18:41 2017\n",
    "\n",
    "@author: zhouyi\n",
    "\"\"\"\n",
    "import glob\n",
    "import os\n",
    "# if you are using OPENBLAS, you might want to turn this option on. Otherwise, joblib might get stuck\n",
    "# os.environ['OPENBLAS_NUM_THREADS'] = '1'\n",
    "\n",
    "import numpy as np\n",
    "import scipy.sparse\n",
    "import pandas as pd\n",
    "\n",
    "import expomf\n"
   ]
  },
  {
   "cell_type": "code",
   "execution_count": 2,
   "metadata": {
    "collapsed": true
   },
   "outputs": [],
   "source": [
    "DATA_ROOT = '/Users/zhouyi/Documents/GraduatePJ/ml-1m'\n",
    "\n",
    "unique_uid = list()\n",
    "with open(os.path.join(DATA_ROOT, 'unique_uid.txt'), 'r') as f:\n",
    "    for line in f:\n",
    "        unique_uid.append(line.strip())\n",
    "    \n",
    "unique_sid = list()\n",
    "with open(os.path.join(DATA_ROOT, 'unique_sid.txt'), 'r') as f:\n",
    "    for line in f:\n",
    "        unique_sid.append(line.strip())\n",
    "\n",
    "n_songs = len(unique_sid)\n",
    "n_users = len(unique_uid)"
   ]
  },
  {
   "cell_type": "code",
   "execution_count": 3,
   "metadata": {
    "collapsed": false
   },
   "outputs": [
    {
     "name": "stdout",
     "output_type": "stream",
     "text": [
      "(4200, 2019)\n",
      "(636096,)\n"
     ]
    }
   ],
   "source": [
    "def load_data(csv_file, shape=(n_users, n_songs)):\n",
    "    tp = pd.read_csv(csv_file)\n",
    "    rows, cols = np.array(tp['uid'], dtype=np.int32), np.array(tp['sid'], dtype=np.int32)\n",
    "    count = tp['rating']\n",
    "    return scipy.sparse.csr_matrix((count,(rows, cols)), dtype=np.int16, shape=shape), rows, cols\n",
    "\n",
    "train_data, rows, cols = load_data(os.path.join(DATA_ROOT, 'train.num.csv'))\n",
    "# binarize the data\n",
    "train_data.data = np.ones_like(train_data.data)\n",
    "\n",
    "print train_data.shape\n",
    "print train_data.data.shape\n",
    "\n",
    "vad_data, rows_vad, cols_vad = load_data(os.path.join(DATA_ROOT, 'vad.num.csv'))\n",
    "# binarize the data\n",
    "vad_data.data = np.ones_like(vad_data.data)\n",
    "\n",
    "test_data, rows_test, cols_test = load_data(os.path.join(DATA_ROOT, 'test.num.csv'))\n",
    "# binarize the data\n",
    "test_data.data = np.ones_like(test_data.data)"
   ]
  },
  {
   "cell_type": "code",
   "execution_count": 4,
   "metadata": {
    "collapsed": false
   },
   "outputs": [
    {
     "name": "stdout",
     "output_type": "stream",
     "text": [
      "ITERATION #0\n",
      "\tUpdating user factors: time=2.20\n",
      "\tUpdating item factors: time=1.52\n",
      "\tUpdating exposure prior: time=0.38\n",
      "\tValidation NDCG@k: 0.0101\n",
      "ITERATION #1\n",
      "\tUpdating user factors: time=1.41\n",
      "\tUpdating item factors: time=1.10\n",
      "\tUpdating exposure prior: time=0.26\n",
      "\tValidation NDCG@k: 0.0410\n",
      "ITERATION #2\n",
      "\tUpdating user factors: time=1.32\n",
      "\tUpdating item factors: time=1.21\n",
      "\tUpdating exposure prior: time=0.38\n",
      "\tValidation NDCG@k: 0.0493\n",
      "ITERATION #3\n",
      "\tUpdating user factors: time=1.63\n",
      "\tUpdating item factors: time=1.42\n",
      "\tUpdating exposure prior: time=0.32\n",
      "\tValidation NDCG@k: 0.0515\n",
      "ITERATION #4\n",
      "\tUpdating user factors: time=1.31\n",
      "\tUpdating item factors: time=1.11\n",
      "\tUpdating exposure prior: time=0.26\n",
      "\tValidation NDCG@k: 0.0530\n",
      "ITERATION #5\n",
      "\tUpdating user factors: time=1.31\n",
      "\tUpdating item factors: time=1.11\n",
      "\tUpdating exposure prior: time=0.26\n",
      "\tValidation NDCG@k: 0.0537\n",
      "ITERATION #6\n",
      "\tUpdating user factors: time=1.32\n",
      "\tUpdating item factors: time=1.00\n",
      "\tUpdating exposure prior: time=0.27\n",
      "\tValidation NDCG@k: 0.0539\n",
      "ITERATION #7\n",
      "\tUpdating user factors: time=1.31\n",
      "\tUpdating item factors: time=1.11\n",
      "\tUpdating exposure prior: time=0.26\n",
      "\tValidation NDCG@k: 0.0540\n",
      "ITERATION #8\n",
      "\tUpdating user factors: time=1.82\n",
      "\tUpdating item factors: time=1.40\n",
      "\tUpdating exposure prior: time=0.32\n",
      "\tValidation NDCG@k: 0.0538\n"
     ]
    },
    {
     "data": {
      "text/plain": [
       "ExpoMF(batch_size=10, early_stopping=True, init_std=0.01, max_iter=15,\n",
       "    n_components=18, n_jobs=5, random_state=98765,\n",
       "    save_dir='ExpoMF_ML_K18_lam1E-05_initmu5E-03', save_params=True,\n",
       "    verbose=True)"
      ]
     },
     "execution_count": 4,
     "metadata": {},
     "output_type": "execute_result"
    }
   ],
   "source": [
    "n_components = 18\n",
    "max_iter = 15\n",
    "n_jobs = 5\n",
    "# grid search on init_mu = {0.1, 0.05, 0.01, 0.005, 0.001} from validation set\n",
    "init_mu = 0.005\n",
    "lam = 1e-5\n",
    "\n",
    "save_dir=\"ExpoMF_ML_K%d_lam%1.0E_initmu%1.0E\" % (n_components, lam, init_mu)\n",
    "\n",
    "coder = expomf.ExpoMF(n_components=n_components, max_iter=max_iter, batch_size=10, init_std=0.01, \n",
    "                      n_jobs=n_jobs, random_state=98765, save_params=True, \n",
    "                      save_dir=save_dir, early_stopping=True, verbose=True, \n",
    "                      lam_y=1., lam_theta=lam, lam_beta=lam, a=1., b=1., init_mu=init_mu)\n",
    "\n",
    "coder.fit(train_data, vad_data=vad_data, k=20)"
   ]
  },
  {
   "cell_type": "code",
   "execution_count": 5,
   "metadata": {
    "collapsed": false
   },
   "outputs": [
    {
     "data": {
      "text/plain": [
       "'More Results are summarized here:\\n\\nTest NDCG@k: 0.13427\\nTest Recall@k: 0.14925\\nTest MAP@k: 0.13630\\n\\n\\n'"
      ]
     },
     "execution_count": 5,
     "metadata": {},
     "output_type": "execute_result"
    }
   ],
   "source": [
    "'''More Results are summarized here:\n",
    "\n",
    "Test NDCG@k: 0.13427\n",
    "Test Recall@k: 0.14925\n",
    "Test MAP@k: 0.13630\n",
    "\n",
    "\n",
    "'''"
   ]
  },
  {
   "cell_type": "code",
   "execution_count": null,
   "metadata": {
    "collapsed": true
   },
   "outputs": [],
   "source": []
  }
 ],
 "metadata": {
  "kernelspec": {
   "display_name": "Python 2",
   "language": "python",
   "name": "python2"
  },
  "language_info": {
   "codemirror_mode": {
    "name": "ipython",
    "version": 2
   },
   "file_extension": ".py",
   "mimetype": "text/x-python",
   "name": "python",
   "nbconvert_exporter": "python",
   "pygments_lexer": "ipython2",
   "version": "2.7.13"
  }
 },
 "nbformat": 4,
 "nbformat_minor": 2
}
