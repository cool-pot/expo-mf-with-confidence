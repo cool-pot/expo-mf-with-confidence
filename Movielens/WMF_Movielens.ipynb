{
 "cells": [
  {
   "cell_type": "code",
   "execution_count": 1,
   "metadata": {
    "collapsed": true
   },
   "outputs": [],
   "source": [
    "#!/usr/bin/env python2\n",
    "# -*- coding: utf-8 -*-\n",
    "\"\"\"\n",
    "Created on Fri May  5 17:53:23 2017\n",
    "\n",
    "@author: zhouyi\n",
    "\"\"\"\n",
    "\n",
    "import glob\n",
    "import os\n",
    "import sys\n",
    "\n",
    "import implicit\n",
    "import pandas as pd\n",
    "import numpy as np\n",
    "import matplotlib\n",
    "import matplotlib.pyplot as plt\n",
    "import scipy.sparse\n",
    "\n",
    "\n",
    "import evaluation\n",
    "\n",
    "DATA_ROOT = '/Users/zhouyi/Documents/GraduatePJ/ml-1m'"
   ]
  },
  {
   "cell_type": "code",
   "execution_count": 2,
   "metadata": {
    "collapsed": true
   },
   "outputs": [],
   "source": [
    "unique_uid = list()\n",
    "with open(os.path.join(DATA_ROOT, 'unique_uid.txt'), 'r') as f:\n",
    "    for line in f:\n",
    "        unique_uid.append(line.strip())\n",
    "        \n",
    "unique_sid = list()\n",
    "with open(os.path.join(DATA_ROOT, 'unique_sid.txt'), 'r') as f:\n",
    "    for line in f:\n",
    "        unique_sid.append(line.strip())\n",
    "\n",
    "n_songs = len(unique_sid)\n",
    "n_users = len(unique_uid)"
   ]
  },
  {
   "cell_type": "code",
   "execution_count": 3,
   "metadata": {
    "collapsed": false
   },
   "outputs": [
    {
     "name": "stdout",
     "output_type": "stream",
     "text": [
      "train__data.shape: (2019, 4200)\n",
      "train_data entries: (636096,)\n",
      "vad__data.shape: (2019, 4200)\n",
      "vad_data entries: (70677,)\n",
      "test_data.shape: (2019, 4200)\n",
      "test_data entries: (176693,)\n",
      "sparse according to vad_data: 0.833474846105 %\n"
     ]
    }
   ],
   "source": [
    "def load_data(csv_file, shape=(n_songs, n_users)):\n",
    "    tp = pd.read_csv(csv_file)\n",
    "    cols, rows = np.array(tp['uid'], dtype=np.int32), np.array(tp['sid'], dtype=np.int32)\n",
    "    count = tp['rating']\n",
    "    return scipy.sparse.csr_matrix((count,(rows, cols)), dtype=np.int16, shape=shape), rows, cols\n",
    "\n",
    "\n",
    "train_data, rows, cols = load_data(os.path.join(DATA_ROOT, 'train.num.csv'))\n",
    "# binarize the data\n",
    "train_data.data = np.ones_like(train_data.data)\n",
    "\n",
    "print 'train__data.shape:',train_data.shape\n",
    "print 'train_data entries:',train_data.data.shape\n",
    "\n",
    "vad_data, rows_vad, cols_vad = load_data(os.path.join(DATA_ROOT, 'vad.num.csv'))\n",
    "# binarize the data\n",
    "vad_data.data = np.ones_like(vad_data.data)\n",
    "print 'vad__data.shape:',vad_data.shape\n",
    "print 'vad_data entries:',vad_data.data.shape\n",
    "\n",
    "test_data, rows_test, cols_test = load_data(os.path.join(DATA_ROOT, 'test.num.csv'))\n",
    "# binarize the data\n",
    "test_data.data = np.ones_like(test_data.data)\n",
    "print 'test_data.shape:',test_data.shape\n",
    "print 'test_data entries:',test_data.data.shape\n",
    "\n",
    "print 'sparse according to vad_data:',100*float(vad_data.data.shape[0])/(vad_data.shape[0]*vad_data.shape[1]),\"%\""
   ]
  },
  {
   "cell_type": "code",
   "execution_count": 4,
   "metadata": {
    "collapsed": true
   },
   "outputs": [],
   "source": [
    "#fit the WMF model\n",
    "IMMOVIEmodel = implicit.als.AlternatingLeastSquares(factors=18)\n",
    "IMMOVIEmodel.fit(train_data.astype(np.double))"
   ]
  },
  {
   "cell_type": "code",
   "execution_count": 5,
   "metadata": {
    "collapsed": true
   },
   "outputs": [],
   "source": [
    "'''Compute validation metric '''\n",
    "def validate(model, X, vad_data):\n",
    "        \n",
    "    vad_recall_at_k = evaluation.Recall_at_k(X.T, vad_data.T,\n",
    "                                                model.user_factors,\n",
    "                                                model.item_factors,\n",
    "                                                k=20)\n",
    "        \n",
    "    vad_map_at_k = evaluation.MAP_at_k(X.T, vad_data.T,\n",
    "                                                model.user_factors,\n",
    "                                                model.item_factors,\n",
    "                                                k=20)\n",
    "        \n",
    "    vad_ndcg_at_k = evaluation.NDCG_at_k(X.T, vad_data.T,\n",
    "                                                model.user_factors,\n",
    "                                                model.item_factors,\n",
    "                                                k=20)\n",
    "    if True:\n",
    "        print('\\tValidation NDCG@k: %.5f' % vad_ndcg_at_k)\n",
    "        print('\\tValidation Recall@k: %.5f' % vad_recall_at_k)\n",
    "        print('\\tValidation MAP@k: %.5f' % vad_map_at_k)\n",
    "        sys.stdout.flush()\n",
    "            \n",
    "        \n",
    "    return vad_ndcg_at_k,vad_recall_at_k,vad_map_at_k"
   ]
  },
  {
   "cell_type": "code",
   "execution_count": 6,
   "metadata": {
    "collapsed": false
   },
   "outputs": [
    {
     "name": "stdout",
     "output_type": "stream",
     "text": [
      "\tValidation NDCG@k: 0.05367\n",
      "\tValidation Recall@k: 0.10566\n",
      "\tValidation MAP@k: 0.05385\n"
     ]
    }
   ],
   "source": [
    "VAD_RECORD=validate(IMMOVIEmodel,train_data,vad_data)"
   ]
  },
  {
   "cell_type": "code",
   "execution_count": 7,
   "metadata": {
    "collapsed": false
   },
   "outputs": [
    {
     "data": {
      "text/plain": [
       "'More results are summarized here\\n\\nTest NDCG@k: 0.13116\\nTest Recall@k: 0.14797\\nTest MAP@k: 0.13138\\n'"
      ]
     },
     "execution_count": 7,
     "metadata": {},
     "output_type": "execute_result"
    }
   ],
   "source": [
    "'''More results are summarized here\n",
    "\n",
    "Test NDCG@k: 0.13116\n",
    "Test Recall@k: 0.14797\n",
    "Test MAP@k: 0.13138\n",
    "'''"
   ]
  },
  {
   "cell_type": "code",
   "execution_count": null,
   "metadata": {
    "collapsed": true
   },
   "outputs": [],
   "source": []
  }
 ],
 "metadata": {
  "kernelspec": {
   "display_name": "Python 2",
   "language": "python",
   "name": "python2"
  },
  "language_info": {
   "codemirror_mode": {
    "name": "ipython",
    "version": 2
   },
   "file_extension": ".py",
   "mimetype": "text/x-python",
   "name": "python",
   "nbconvert_exporter": "python",
   "pygments_lexer": "ipython2",
   "version": "2.7.13"
  }
 },
 "nbformat": 4,
 "nbformat_minor": 2
}
