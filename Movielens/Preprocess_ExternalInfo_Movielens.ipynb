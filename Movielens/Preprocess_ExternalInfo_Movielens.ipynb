{
 "cells": [
  {
   "cell_type": "code",
   "execution_count": 1,
   "metadata": {
    "collapsed": false
   },
   "outputs": [
    {
     "name": "stderr",
     "output_type": "stream",
     "text": [
      "/Users/zhouyi/anaconda/lib/python2.7/site-packages/ipykernel/__main__.py:15: ParserWarning: Falling back to the 'python' engine because the 'c' engine does not support regex separators (separators > 1 char and different from '\\s+' are interpreted as regex); you can avoid this warning by specifying engine='python'.\n"
     ]
    }
   ],
   "source": [
    "#!/usr/bin/env python2\n",
    "# -*- coding: utf-8 -*-\n",
    "\"\"\"\n",
    "Created on Thu May  4 21:36:38 2017\n",
    "\n",
    "@author: zhouyi\n",
    "\"\"\"\n",
    "\n",
    "import pandas as pd\n",
    "import numpy as np\n",
    "import os\n",
    "\n",
    "DATA_DIR = '/Users/zhouyi/Documents/GraduatePJ/ml-1m'\n",
    "\n",
    "df = pd.read_table(os.path.join(DATA_DIR, 'movies.dat'), header=None, sep='::', names=['sid', 'name','genre'])\n",
    "df['genre'].to_csv(os.path.join(DATA_DIR, 'movies_genre'),index=False)\n",
    "\n",
    "genre = pd.read_table(os.path.join(DATA_DIR, 'movies_genre'), header=None, sep='|',names=['1','2','3','4','5'])"
   ]
  },
  {
   "cell_type": "code",
   "execution_count": 2,
   "metadata": {
    "collapsed": true
   },
   "outputs": [],
   "source": [
    "#dict: mark every genre with a number\n",
    "genre2num={\n",
    "     \"Action\":0,\n",
    "\t \"Adventure\":1,\n",
    "\t \"Animation\":2,\n",
    "\t \"Children's\":3,\n",
    "\t \"Comedy\":4,\n",
    "\t \"Crime\":5,\n",
    "\t \"Documentary\":6,\n",
    "\t \"Drama\":7,\n",
    "\t \"Fantasy\":8,\n",
    "\t \"Film-Noir\":9,\n",
    "\t \"Horror\":10,\n",
    "\t \"Musical\":11,\n",
    "\t \"Mystery\":12,\n",
    "\t \"Romance\":13,\n",
    "\t \"Sci-Fi\":14,\n",
    "\t \"Thriller\":15,\n",
    "\t \"War\":16,\n",
    "\t \"Western\":17\n",
    "     }"
   ]
  },
  {
   "cell_type": "code",
   "execution_count": 3,
   "metadata": {
    "collapsed": true
   },
   "outputs": [],
   "source": [
    "#movie genres ->  vectors\n",
    "\n",
    "genre_num_mat=np.zeros((genre.shape[0],18),dtype=np.float)\n",
    "for row_index,row in genre.iterrows():\n",
    "    for i in range(5):\n",
    "        if(type(row[i])==type(\"string\")):\n",
    "            genre_num_mat[row_index,genre2num[row[i]]]+=1\n",
    "        if(type(row[i])==type(float(0))):\n",
    "            pass\n",
    " "
   ]
  },
  {
   "cell_type": "code",
   "execution_count": 4,
   "metadata": {
    "collapsed": true
   },
   "outputs": [],
   "source": [
    "#Normrize\n",
    "for i in range(genre_num_mat.shape[0]):\n",
    "    rowsum=sum(genre_num_mat[i,:])\n",
    "    genre_num_mat[i,:]/=rowsum\n",
    "                 \n",
    "for i in range(18):\n",
    "    df[i]=genre_num_mat[:,i]\n"
   ]
  },
  {
   "cell_type": "code",
   "execution_count": 5,
   "metadata": {
    "collapsed": true
   },
   "outputs": [],
   "source": [
    "#pick up the sid\n",
    "unique_sid = list()\n",
    "with open(os.path.join(DATA_DIR, 'unique_sid.txt'), 'r') as f:\n",
    "    for line in f:\n",
    "        unique_sid.append(line.strip())\n",
    "\n",
    "df = df[df['sid'].isin(map(int,unique_sid))]\n",
    "\n",
    "df_vector=df.drop(['name','genre'],axis=1)\n",
    "df_vector.to_csv(os.path.join(DATA_DIR, 'genre_movies_vector'),index=False,index_label=True,sep=' ')\n"
   ]
  },
  {
   "cell_type": "code",
   "execution_count": null,
   "metadata": {
    "collapsed": true
   },
   "outputs": [],
   "source": []
  }
 ],
 "metadata": {
  "kernelspec": {
   "display_name": "Python 2",
   "language": "python",
   "name": "python2"
  },
  "language_info": {
   "codemirror_mode": {
    "name": "ipython",
    "version": 2
   },
   "file_extension": ".py",
   "mimetype": "text/x-python",
   "name": "python",
   "nbconvert_exporter": "python",
   "pygments_lexer": "ipython2",
   "version": "2.7.13"
  }
 },
 "nbformat": 4,
 "nbformat_minor": 2
}
