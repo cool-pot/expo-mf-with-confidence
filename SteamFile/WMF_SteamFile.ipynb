{
 "cells": [
  {
   "cell_type": "code",
   "execution_count": 1,
   "metadata": {
    "collapsed": true
   },
   "outputs": [],
   "source": [
    "#!/usr/bin/env python2\n",
    "# -*- coding: utf-8 -*-\n",
    "\"\"\"\n",
    "Created on Wed May  3 10:16:06 2017\n",
    "\n",
    "@author: zhouyi\n",
    "\"\"\"\n",
    "import glob\n",
    "import os\n",
    "import sys\n",
    "\n",
    "import implicit\n",
    "import pandas as pd\n",
    "import numpy as np\n",
    "import matplotlib\n",
    "import matplotlib.pyplot as plt\n",
    "import scipy.sparse\n",
    "\n",
    "import evaluation\n",
    "\n",
    "\n",
    "DATA_ROOT = '/Users/zhouyi/Documents/GraduatePJ/steam_data'"
   ]
  },
  {
   "cell_type": "code",
   "execution_count": 2,
   "metadata": {
    "collapsed": true
   },
   "outputs": [],
   "source": [
    "unique_uid = list()\n",
    "with open(os.path.join(DATA_ROOT, 'unique_user_id.txt'), 'r') as f:\n",
    "    for line in f:\n",
    "        unique_uid.append(line.strip())\n",
    "        \n",
    "unique_gname = list()\n",
    "with open(os.path.join(DATA_ROOT, 'unique_game_name.txt'), 'r') as f:\n",
    "    for line in f:\n",
    "        unique_gname.append(line.strip())\n",
    "\n",
    "n_games = len(unique_gname)\n",
    "n_users = len(unique_uid)"
   ]
  },
  {
   "cell_type": "code",
   "execution_count": 3,
   "metadata": {
    "collapsed": true
   },
   "outputs": [],
   "source": [
    "# initialize a implicit model\n",
    "IMSTEAMmodel = implicit.als.AlternatingLeastSquares(factors=50)"
   ]
  },
  {
   "cell_type": "code",
   "execution_count": 4,
   "metadata": {
    "collapsed": true
   },
   "outputs": [],
   "source": [
    "#Load the data and train the model\n",
    "#To fit the  implicit Arg requirements, rows are item, cols are user\n",
    "'''implicit.fit:\n",
    "     item_users (csr_matrix): Matrix of confidences for the liked items. This matrix\n",
    "                should be a csr_matrix where the rows of the matrix are the\n",
    "                item, the columns are the users that liked that item, and the\n",
    "                value is the confidence that the user liked the item.'''\n",
    "                \n",
    "def load_data(csv_file, shape=(n_games, n_users)):\n",
    "    st = pd.read_csv(csv_file)\n",
    "    cols, rows = np.array(st['user_id'], dtype=np.int32), np.array(st['game_name'], dtype=np.int32)\n",
    "    count = st['value']\n",
    "    return scipy.sparse.csr_matrix((count,(rows, cols)), dtype=np.int16, shape=shape), rows, cols"
   ]
  },
  {
   "cell_type": "code",
   "execution_count": 5,
   "metadata": {
    "collapsed": false
   },
   "outputs": [
    {
     "name": "stdout",
     "output_type": "stream",
     "text": [
      "train_data.shape: (1197, 1269)\n",
      "train_data entries: (54310,)\n",
      "vad__data.shape: (1197, 1269)\n",
      "vad_data entries: (6065,)\n",
      "test_data.shape: (1197, 1269)\n",
      "test_data entries: (15152,)\n",
      "sparse according to vad_data: 0.00399277679357\n",
      "---\n"
     ]
    }
   ],
   "source": [
    "train_data, rows, cols = load_data(os.path.join(DATA_ROOT, 'train.num.sub.csv'))\n",
    "print 'train_data.shape:',train_data.shape\n",
    "print 'train_data entries:',train_data.data.shape\n",
    "\n",
    "vad_data, rows_vad, cols_vad = load_data(os.path.join(DATA_ROOT, 'vad.num.sub.csv'))\n",
    "print 'vad__data.shape:',vad_data.shape\n",
    "print 'vad_data entries:',vad_data.data.shape\n",
    "\n",
    "test_data, rows_test, cols_test = load_data(os.path.join(DATA_ROOT, 'test.num.sub.csv'))\n",
    "print 'test_data.shape:',test_data.shape\n",
    "print 'test_data entries:',test_data.data.shape\n",
    "\n",
    "print 'sparse according to vad_data:',float(vad_data.data.shape[0])/(vad_data.shape[0]*vad_data.shape[1])\n",
    "print '---'\n"
   ]
  },
  {
   "cell_type": "code",
   "execution_count": 6,
   "metadata": {
    "collapsed": true
   },
   "outputs": [],
   "source": [
    "#fit the WMF\n",
    "IMSTEAMmodel.fit(train_data.astype(np.double))"
   ]
  },
  {
   "cell_type": "code",
   "execution_count": 8,
   "metadata": {
    "collapsed": false
   },
   "outputs": [
    {
     "name": "stdout",
     "output_type": "stream",
     "text": [
      "Validation Results for WMF:\n",
      "\tNDCG@k: 0.0239\n",
      "\tRecall@k: 0.1825\n",
      "\tMAP@k: 0.0197\n"
     ]
    }
   ],
   "source": [
    "'''Compute validation metric '''\n",
    "def validate(model, X, vad_data):\n",
    "        \n",
    "    vad_recall_at_k = evaluation.Recall_at_k(X.T, vad_data.T,\n",
    "                                                model.user_factors,\n",
    "                                                model.item_factors,\n",
    "                                                k=20)\n",
    "        \n",
    "    vad_map_at_k = evaluation.MAP_at_k(X.T, vad_data.T,\n",
    "                                                model.user_factors,\n",
    "                                                model.item_factors,\n",
    "                                                k=20)\n",
    "        \n",
    "    vad_ndcg_at_k = evaluation.NDCG_at_k(X.T, vad_data.T,\n",
    "                                                model.user_factors,\n",
    "                                                model.item_factors,\n",
    "                                                k=20)\n",
    "    if True:\n",
    "        print('\\tNDCG@k: %.4f' % vad_ndcg_at_k)\n",
    "        print('\\tRecall@k: %.4f' % vad_recall_at_k)\n",
    "        print('\\tMAP@k: %.4f' % vad_map_at_k)\n",
    "        sys.stdout.flush()\n",
    "            \n",
    "        \n",
    "    return vad_ndcg_at_k,vad_recall_at_k,vad_map_at_k\n",
    "\n",
    "print 'Validation Results for WMF:'\n",
    "VAD_RECORD=validate(IMSTEAMmodel,train_data,vad_data)"
   ]
  },
  {
   "cell_type": "code",
   "execution_count": 9,
   "metadata": {
    "collapsed": false
   },
   "outputs": [
    {
     "name": "stdout",
     "output_type": "stream",
     "text": [
      "Test Results for WMF:\n",
      "\tNDCG@k: 0.0593\n",
      "\tRecall@k: 0.2033\n",
      "\tMAP@k: 0.0512\n"
     ]
    }
   ],
   "source": [
    "print 'Test Results for WMF:'\n",
    "TEST_RECORD=validate(IMSTEAMmodel,train_data,test_data)"
   ]
  },
  {
   "cell_type": "code",
   "execution_count": null,
   "metadata": {
    "collapsed": true
   },
   "outputs": [],
   "source": []
  }
 ],
 "metadata": {
  "kernelspec": {
   "display_name": "Python 2",
   "language": "python",
   "name": "python2"
  },
  "language_info": {
   "codemirror_mode": {
    "name": "ipython",
    "version": 2
   },
   "file_extension": ".py",
   "mimetype": "text/x-python",
   "name": "python",
   "nbconvert_exporter": "python",
   "pygments_lexer": "ipython2",
   "version": "2.7.13"
  }
 },
 "nbformat": 4,
 "nbformat_minor": 2
}
