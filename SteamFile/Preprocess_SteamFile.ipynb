{
 "cells": [
  {
   "cell_type": "code",
   "execution_count": 1,
   "metadata": {
    "collapsed": true
   },
   "outputs": [],
   "source": [
    "#!/usr/bin/env python2\n",
    "# -*- coding: utf-8 -*-\n",
    "\"\"\"\n",
    "Created on Tue May  2 21:46:15 2017\n",
    "\n",
    "@author: zhouyi\n",
    "\"\"\"\n",
    "\n",
    "import json\n",
    "import os\n",
    "\n",
    "import numpy as np\n",
    "import pandas as pd\n",
    "\n",
    "\n",
    "# Change this to wherever you keep the data\n",
    "STEAM_DIR = '/Users/zhouyi/Documents/GraduatePJ/steam_data'\n",
    "\n",
    "# The dataset can be obtained here:\n",
    "# https://www.kaggle.com/tamber/steam-video-games\n",
    "STEAM_file= os.path.join(STEAM_DIR,'steam-200k.csv')\n",
    "\n",
    "st = pd.read_csv(STEAM_file, header=None, names=['user_id', 'game_name', 'behavior','value','other'])\n",
    "st=st[st['behavior'].isin(['purchase'])]\n",
    "st=st[['user_id','game_name','value']]"
   ]
  },
  {
   "cell_type": "code",
   "execution_count": 2,
   "metadata": {
    "collapsed": false
   },
   "outputs": [
    {
     "name": "stdout",
     "output_type": "stream",
     "text": [
      "After filtering, there are 75860 triplets from 1269 users and 1197 games (sparsity level 4.994%)\n"
     ]
    }
   ],
   "source": [
    "user_count=st[['user_id','value']].groupby('user_id',as_index=False).size()\n",
    "game_count=st[['game_name','value']].groupby('game_name',as_index=False).size()\n",
    "\n",
    "MIN_USERCOUNT=20\n",
    "MIN_GAMECOUNT=20\n",
    "\n",
    "#Filter, only keep the triplets for users who purchased at least MIN_USERCOUNT games\n",
    "#and the games which are played by at least MIN_GAMECOUNT users\n",
    "st=st[st['user_id'].isin(user_count.index[user_count>=MIN_USERCOUNT])]\n",
    "st=st[st['game_name'].isin(game_count.index[game_count>=MIN_GAMECOUNT])]\n",
    "user_count=st[['user_id','value']].groupby('user_id',as_index=False).size()\n",
    "game_count=st[['game_name','value']].groupby('game_name',as_index=False).size()\n",
    "\n",
    "sparsity_level = float(st.shape[0]) / (user_count.shape[0] * game_count.shape[0])\n",
    "print \"After filtering, there are %d triplets from %d users and %d games (sparsity level %.3f%%)\" % (st.shape[0], \n",
    "                                                                                                      user_count.shape[0], \n",
    "                                                                                                      game_count.shape[0], \n",
    "                                                                                                     sparsity_level * 100)\n"
   ]
  },
  {
   "cell_type": "code",
   "execution_count": 3,
   "metadata": {
    "collapsed": false
   },
   "outputs": [
    {
     "data": {
      "image/png": "[encoded data removed]",
      "text/plain": [
       "<matplotlib.figure.Figure at 0x10d1e1250>"
      ]
     },
     "metadata": {},
     "output_type": "display_data"
    },
    {
     "data": {
      "image/png": "[encoded data removed]",
      "text/plain": [
       "<matplotlib.figure.Figure at 0x108e7d6d0>"
      ]
     },
     "metadata": {},
     "output_type": "display_data"
    }
   ],
   "source": [
    "#visualize user_count and game_count\n",
    "import matplotlib\n",
    "import matplotlib.pyplot as plt\n",
    "plt.figure(figsize=(10, 4))\n",
    "user_count.hist(bins=70)\n",
    "plt.xlabel('number of games each user purchase')\n",
    "\n",
    "\n",
    "plt.figure(figsize=(10, 4))\n",
    "game_count.hist(bins=70)\n",
    "plt.xlabel('number of users by which each game is purchased')\n",
    "plt.show()"
   ]
  },
  {
   "cell_type": "code",
   "execution_count": 4,
   "metadata": {
    "collapsed": false
   },
   "outputs": [
    {
     "name": "stdout",
     "output_type": "stream",
     "text": [
      "--------------------------------\n",
      "TOP 10 POPULAR GAMES FROM STEAM\n",
      "--------------------------------\n",
      "1 ,Team Fortress 2\n",
      "2 ,Counter-Strike Global Offensive\n",
      "3 ,Dota 2\n",
      "4 ,Left 4 Dead 2\n",
      "5 ,Unturned\n",
      "6 ,The Elder Scrolls V Skyrim\n",
      "7 ,Garry's Mod\n",
      "8 ,Counter-Strike Source\n",
      "9 ,Portal 2\n",
      "10 ,Half-Life 2 Lost Coast\n",
      "--------------------------------\n"
     ]
    },
    {
     "name": "stderr",
     "output_type": "stream",
     "text": [
      "/Users/zhouyi/anaconda/lib/python2.7/site-packages/ipykernel/__main__.py:5: FutureWarning: order is deprecated, use sort_values(...)\n"
     ]
    }
   ],
   "source": [
    "#Top 10 popular games are\n",
    "print \"--------------------------------\"\n",
    "print \"TOP 10 POPULAR GAMES FROM STEAM\"\n",
    "print \"--------------------------------\"\n",
    "game_in_order=game_count.order(ascending=False).index\n",
    "for i in range(10):\n",
    "    print \"%d ,%s\" %(i+1,game_in_order[i])\n",
    "print \"--------------------------------\""
   ]
  },
  {
   "cell_type": "code",
   "execution_count": 5,
   "metadata": {
    "collapsed": true
   },
   "outputs": [],
   "source": [
    "#Transform\n",
    "unique_user_id = user_count.index\n",
    "unique_game_name = game_count.index\n",
    "\n",
    "game2id = dict((game_name, i) for (i, game_name) in enumerate(unique_game_name))\n",
    "user2id = dict((user_id, i) for (i, user_id) in enumerate(unique_user_id))\n",
    "\n",
    "with open(os.path.join(STEAM_DIR, 'unique_user_id.txt'), 'w') as f:\n",
    "    for uid in unique_user_id:\n",
    "        f.write('%s\\n' % uid)\n",
    "\n",
    "with open(os.path.join(STEAM_DIR, 'unique_game_name.txt'), 'w') as f:\n",
    "    for gname in unique_game_name:\n",
    "        f.write('%s\\n' % gname)"
   ]
  },
  {
   "cell_type": "code",
   "execution_count": 6,
   "metadata": {
    "collapsed": false
   },
   "outputs": [
    {
     "name": "stdout",
     "output_type": "stream",
     "text": [
      "There are total of 1269 unique users in the training set and 1269 unique users in the entire dataset\n",
      "There are total of 1197 unique items in the training set and 1197 unique items in the entire dataset\n",
      "There are total of 1269 unique users in the training set and 1269 unique users in the entire dataset\n",
      "There are total of 1197 unique items in the training set and 1197 unique items in the entire dataset\n"
     ]
    }
   ],
   "source": [
    "#Generate train/test/vad sets\n",
    "\n",
    "##Pick out 20% of the rating for heldout test\n",
    "np.random.seed(95616)\n",
    "n_ratings = st.shape[0]\n",
    "test = np.random.choice(n_ratings, size=int(0.20 * n_ratings), replace=False)\n",
    "\n",
    "test_idx = np.zeros(n_ratings, dtype=bool)\n",
    "test_idx[test] = True\n",
    "\n",
    "test_st = st[test_idx]\n",
    "train_st = st[~test_idx]\n",
    "\n",
    "##Make sure there is no empty row or column in the training data\n",
    "print \"There are total of %d unique users in the training set and %d unique users in the entire dataset\" % \\\n",
    "(len(pd.unique(train_st['user_id'])), len(pd.unique(st['user_id'])))\n",
    "print \"There are total of %d unique items in the training set and %d unique items in the entire dataset\" % \\\n",
    "(len(pd.unique(train_st['game_name'])), len(pd.unique(st['game_name'])))\n",
    "\n",
    "##Pick out 10% of the training rating as validation set\n",
    "np.random.seed(13579)\n",
    "n_ratings = train_st.shape[0]\n",
    "vad = np.random.choice(n_ratings, size=int(0.10 * n_ratings), replace=False)\n",
    "    \n",
    "vad_idx = np.zeros(n_ratings, dtype=bool)\n",
    "vad_idx[vad] = True\n",
    "\n",
    "vad_st = train_st[vad_idx]\n",
    "train_st = train_st[~vad_idx]\n",
    "\n",
    "##Again make sure there is no empty row or column in the training data\n",
    "print \"There are total of %d unique users in the training set and %d unique users in the entire dataset\" % \\\n",
    "(len(pd.unique(train_st['user_id'])), len(pd.unique(st['user_id'])))\n",
    "print \"There are total of %d unique items in the training set and %d unique items in the entire dataset\" % \\\n",
    "(len(pd.unique(train_st['game_name'])), len(pd.unique(st['game_name'])))"
   ]
  },
  {
   "cell_type": "code",
   "execution_count": 7,
   "metadata": {
    "collapsed": false
   },
   "outputs": [
    {
     "name": "stderr",
     "output_type": "stream",
     "text": [
      "/Users/zhouyi/anaconda/lib/python2.7/site-packages/ipykernel/__main__.py:6: SettingWithCopyWarning: \n",
      "A value is trying to be set on a copy of a slice from a DataFrame.\n",
      "Try using .loc[row_indexer,col_indexer] = value instead\n",
      "\n",
      "See the caveats in the documentation: http://pandas.pydata.org/pandas-docs/stable/indexing.html#indexing-view-versus-copy\n",
      "/Users/zhouyi/anaconda/lib/python2.7/site-packages/ipykernel/__main__.py:7: SettingWithCopyWarning: \n",
      "A value is trying to be set on a copy of a slice from a DataFrame.\n",
      "Try using .loc[row_indexer,col_indexer] = value instead\n",
      "\n",
      "See the caveats in the documentation: http://pandas.pydata.org/pandas-docs/stable/indexing.html#indexing-view-versus-copy\n"
     ]
    }
   ],
   "source": [
    "#Numerize the data into (user_index, item_index, count) format\n",
    "\n",
    "def numerize(st):\n",
    "    user_id = map(lambda x: user2id[x], st['user_id'])\n",
    "    game_id = map(lambda x: game2id[x], st['game_name'])\n",
    "    st['user_id'] = user_id\n",
    "    st['game_name'] = game_id\n",
    "    return st\n",
    "\n",
    "train_st = numerize(train_st)\n",
    "train_st.to_csv(os.path.join(STEAM_DIR, 'train.num.sub.csv'), index=False)\n",
    "test_st = numerize(test_st)\n",
    "test_st.to_csv(os.path.join(STEAM_DIR, 'test.num.sub.csv'), index=False)\n",
    "vad_st = numerize(vad_st)\n",
    "vad_st.to_csv(os.path.join(STEAM_DIR, 'vad.num.sub.csv'), index=False)"
   ]
  },
  {
   "cell_type": "code",
   "execution_count": null,
   "metadata": {
    "collapsed": true
   },
   "outputs": [],
   "source": []
  }
 ],
 "metadata": {
  "kernelspec": {
   "display_name": "Python 2",
   "language": "python",
   "name": "python2"
  },
  "language_info": {
   "codemirror_mode": {
    "name": "ipython",
    "version": 2
   },
   "file_extension": ".py",
   "mimetype": "text/x-python",
   "name": "python",
   "nbconvert_exporter": "python",
   "pygments_lexer": "ipython2",
   "version": "2.7.13"
  }
 },
 "nbformat": 4,
 "nbformat_minor": 2
}
