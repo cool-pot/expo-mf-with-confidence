{
 "cells": [
  {
   "cell_type": "code",
   "execution_count": 1,
   "metadata": {
    "collapsed": true
   },
   "outputs": [],
   "source": [
    "#!/usr/bin/env python2\n",
    "# -*- coding: utf-8 -*-\n",
    "\"\"\"\n",
    "Created on Wed May  3 09:32:28 2017\n",
    "\n",
    "@author: zhouyi\n",
    "\"\"\"\n",
    "\n",
    "import glob\n",
    "import os\n",
    "import sys\n",
    "\n",
    "import numpy as np\n",
    "import matplotlib\n",
    "import matplotlib.pyplot as plt\n",
    "import scipy.sparse\n",
    "import pandas as pd\n",
    "\n",
    "import expomf\n",
    "\n",
    "DATA_ROOT = '/Users/zhouyi/Documents/GraduatePJ/steam_data'"
   ]
  },
  {
   "cell_type": "code",
   "execution_count": 2,
   "metadata": {
    "collapsed": true
   },
   "outputs": [],
   "source": [
    "unique_uid = list()\n",
    "with open(os.path.join(DATA_ROOT, 'unique_user_id.txt'), 'r') as f:\n",
    "    for line in f:\n",
    "        unique_uid.append(line.strip())\n",
    "        \n",
    "unique_gname = list()\n",
    "with open(os.path.join(DATA_ROOT, 'unique_game_name.txt'), 'r') as f:\n",
    "    for line in f:\n",
    "        unique_gname.append(line.strip())\n",
    "\n",
    "n_games = len(unique_gname)\n",
    "n_users = len(unique_uid)"
   ]
  },
  {
   "cell_type": "code",
   "execution_count": 3,
   "metadata": {
    "collapsed": false
   },
   "outputs": [
    {
     "name": "stdout",
     "output_type": "stream",
     "text": [
      "train_data.shape: (1269, 1197)\n",
      "train_data entries: (54310,)\n",
      "vad__data.shape: (1269, 1197)\n",
      "vad_data entries: (6065,)\n",
      "test_data.shape: (1269, 1197)\n",
      "test_data entries: (15152,)\n",
      "sparse according to vad_data: 0.00399277679357\n"
     ]
    }
   ],
   "source": [
    "#Load the data and train the model\n",
    "def load_data(csv_file, shape=(n_users, n_games)):\n",
    "    st = pd.read_csv(csv_file)\n",
    "    rows, cols = np.array(st['user_id'], dtype=np.int32), np.array(st['game_name'], dtype=np.int32)\n",
    "    count = st['value']\n",
    "    return scipy.sparse.csr_matrix((count,(rows, cols)), dtype=np.int16, shape=shape), rows, cols\n",
    "\n",
    "train_data, rows, cols = load_data(os.path.join(DATA_ROOT, 'train.num.sub.csv'))\n",
    "print 'train_data.shape:',train_data.shape\n",
    "print 'train_data entries:',train_data.data.shape\n",
    "\n",
    "vad_data, rows_vad, cols_vad = load_data(os.path.join(DATA_ROOT, 'vad.num.sub.csv'))\n",
    "print 'vad__data.shape:',vad_data.shape\n",
    "print 'vad_data entries:',vad_data.data.shape\n",
    "\n",
    "test_data, rows_test, cols_test = load_data(os.path.join(DATA_ROOT, 'test.num.sub.csv'))\n",
    "print 'test_data.shape:',test_data.shape\n",
    "print 'test_data entries:',test_data.data.shape\n",
    "\n",
    "print 'sparse according to vad_data:',float(vad_data.data.shape[0])/(vad_data.shape[0]*vad_data.shape[1])"
   ]
  },
  {
   "cell_type": "code",
   "execution_count": 5,
   "metadata": {
    "collapsed": false
   },
   "outputs": [
    {
     "name": "stdout",
     "output_type": "stream",
     "text": [
      "ITERATION #0\n",
      "\tUpdating user factors: time=1.19\n",
      "\tUpdating item factors: time=0.91\n",
      "\tUpdating exposure prior: time=0.12\n",
      "\tValidation NDCG@k: 0.0112\n",
      "ITERATION #1\n",
      "\tUpdating user factors: time=0.81\n",
      "\tUpdating item factors: time=0.80\n",
      "\tUpdating exposure prior: time=0.09\n",
      "\tValidation NDCG@k: 0.0179\n",
      "ITERATION #2\n",
      "\tUpdating user factors: time=0.82\n",
      "\tUpdating item factors: time=0.80\n",
      "\tUpdating exposure prior: time=0.09\n",
      "\tValidation NDCG@k: 0.0208\n",
      "ITERATION #3\n",
      "\tUpdating user factors: time=1.02\n",
      "\tUpdating item factors: time=0.71\n",
      "\tUpdating exposure prior: time=0.09\n",
      "\tValidation NDCG@k: 0.0207\n",
      "ITERATION #4\n",
      "\tUpdating user factors: time=0.82\n",
      "\tUpdating item factors: time=0.82\n",
      "\tUpdating exposure prior: time=0.09\n",
      "\tValidation NDCG@k: 0.0217\n",
      "ITERATION #5\n",
      "\tUpdating user factors: time=0.60\n",
      "\tUpdating item factors: time=0.60\n",
      "\tUpdating exposure prior: time=0.08\n",
      "\tValidation NDCG@k: 0.0229\n",
      "ITERATION #6\n",
      "\tUpdating user factors: time=0.81\n",
      "\tUpdating item factors: time=1.01\n",
      "\tUpdating exposure prior: time=0.07\n",
      "\tValidation NDCG@k: 0.0237\n",
      "ITERATION #7\n",
      "\tUpdating user factors: time=0.79\n",
      "\tUpdating item factors: time=0.81\n",
      "\tUpdating exposure prior: time=0.07\n",
      "\tValidation NDCG@k: 0.0239\n",
      "ITERATION #8\n",
      "\tUpdating user factors: time=0.80\n",
      "\tUpdating item factors: time=0.80\n",
      "\tUpdating exposure prior: time=0.08\n",
      "\tValidation NDCG@k: 0.0246\n",
      "ITERATION #9\n",
      "\tUpdating user factors: time=0.80\n",
      "\tUpdating item factors: time=0.81\n",
      "\tUpdating exposure prior: time=0.08\n",
      "\tValidation NDCG@k: 0.0247\n",
      "ITERATION #10\n",
      "\tUpdating user factors: time=1.31\n",
      "\tUpdating item factors: time=0.85\n",
      "\tUpdating exposure prior: time=0.32\n",
      "\tValidation NDCG@k: 0.0248\n",
      "ITERATION #11\n",
      "\tUpdating user factors: time=1.71\n",
      "\tUpdating item factors: time=0.84\n",
      "\tUpdating exposure prior: time=0.09\n",
      "\tValidation NDCG@k: 0.0251\n",
      "ITERATION #12\n",
      "\tUpdating user factors: time=0.81\n",
      "\tUpdating item factors: time=0.80\n",
      "\tUpdating exposure prior: time=0.08\n",
      "\tValidation NDCG@k: 0.0251\n",
      "ITERATION #13\n",
      "\tUpdating user factors: time=0.71\n",
      "\tUpdating item factors: time=0.59\n",
      "\tUpdating exposure prior: time=0.08\n",
      "\tValidation NDCG@k: 0.0254\n",
      "ITERATION #14\n",
      "\tUpdating user factors: time=0.80\n",
      "\tUpdating item factors: time=0.82\n",
      "\tUpdating exposure prior: time=0.07\n",
      "\tValidation NDCG@k: 0.0254\n",
      "ITERATION #15\n",
      "\tUpdating user factors: time=0.60\n",
      "\tUpdating item factors: time=0.60\n",
      "\tUpdating exposure prior: time=0.07\n",
      "\tValidation NDCG@k: 0.0256\n",
      "ITERATION #16\n",
      "\tUpdating user factors: time=0.94\n",
      "\tUpdating item factors: time=0.83\n",
      "\tUpdating exposure prior: time=0.07\n",
      "\tValidation NDCG@k: 0.0255\n",
      "ITERATION #17\n",
      "\tUpdating user factors: time=0.60\n",
      "\tUpdating item factors: time=0.60\n",
      "\tUpdating exposure prior: time=0.10\n",
      "\tValidation NDCG@k: 0.0253\n",
      "ITERATION #18\n",
      "\tUpdating user factors: time=0.60\n",
      "\tUpdating item factors: time=0.80\n",
      "\tUpdating exposure prior: time=0.09\n",
      "\tValidation NDCG@k: 0.0255\n",
      "ITERATION #19\n",
      "\tUpdating user factors: time=0.71\n",
      "\tUpdating item factors: time=0.70\n",
      "\tUpdating exposure prior: time=0.08\n",
      "\tValidation NDCG@k: 0.0255\n"
     ]
    },
    {
     "data": {
      "text/plain": [
       "ExpoMF(batch_size=10, early_stopping=False, init_std=0.01, max_iter=20,\n",
       "    n_components=50, n_jobs=5, random_state=98765,\n",
       "    save_dir='ExpoMF_TSP_K50_lam1E-05_initmu5E-03', save_params=True,\n",
       "    verbose=True)"
      ]
     },
     "execution_count": 5,
     "metadata": {},
     "output_type": "execute_result"
    }
   ],
   "source": [
    "n_components = 50\n",
    "max_iter = 20\n",
    "n_jobs = 5\n",
    "# grid search on init_mu = {0.1, 0.05, 0.01, 0.005, 0.001} from validation set\n",
    "init_mu = 0.005\n",
    "lam = 1e-5\n",
    "\n",
    "save_dir=\"ExpoMF_TSP_K%d_lam%1.0E_initmu%1.0E\" % (n_components, lam, init_mu)\n",
    "\n",
    "coder = expomf.ExpoMF(n_components=n_components, max_iter=max_iter, batch_size=10, init_std=0.01, \n",
    "                      n_jobs=n_jobs, random_state=98765, save_params=True, \n",
    "                      save_dir=save_dir, early_stopping=False, verbose=True, \n",
    "                      lam_y=1., lam_theta=lam, lam_beta=lam, a=1., b=1., init_mu=init_mu)\n",
    "\n",
    "coder.fit(train_data, vad_data=vad_data, k=20)"
   ]
  },
  {
   "cell_type": "code",
   "execution_count": null,
   "metadata": {
    "collapsed": true
   },
   "outputs": [],
   "source": [
    "''' More Results are summarized here:\n",
    "\n",
    "Validation Recall@k: 0.18848559022213601\n",
    "Validation MAP@k: 0.022360898847808695\n",
    "\n",
    "Test NDCG@k: 0.061967890168069521\n",
    "Test Recall@k: 0.20135546625127884\n",
    "Test MAP@k: 0.056200571106548206\n",
    "'''"
   ]
  }
 ],
 "metadata": {
  "kernelspec": {
   "display_name": "Python 2",
   "language": "python",
   "name": "python2"
  },
  "language_info": {
   "codemirror_mode": {
    "name": "ipython",
    "version": 2
   },
   "file_extension": ".py",
   "mimetype": "text/x-python",
   "name": "python",
   "nbconvert_exporter": "python",
   "pygments_lexer": "ipython2",
   "version": "2.7.13"
  }
 },
 "nbformat": 4,
 "nbformat_minor": 2
}
