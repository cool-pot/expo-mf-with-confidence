{
 "cells": [
  {
   "cell_type": "code",
   "execution_count": 1,
   "metadata": {
    "collapsed": true
   },
   "outputs": [],
   "source": [
    "#!/usr/bin/env python2\n",
    "# -*- coding: utf-8 -*-\n",
    "\"\"\"\n",
    "Created on Fri Apr 14 09:52:15 2017\n",
    "\n",
    "@author: zhouyi\n",
    "\"\"\"\n",
    "\n",
    "import json\n",
    "import os\n",
    "import sqlite3\n",
    "\n",
    "import numpy as np\n",
    "import pandas as pd\n",
    "\n",
    "\n",
    "# Change this to wherever you keep the data\n",
    "TPS_DIR = '/Users/zhouyi/Documents/GraduatePJ/MSD'\n",
    "\n",
    "# The dataset can be obtained here:\n",
    "# http://labrosa.ee.columbia.edu/millionsong/sites/default/files/challenge/train_triplets.txt.zip\n",
    "TP_file = os.path.join(TPS_DIR, 'train_triplets.txt')\n",
    "# track_metadata.db contains all the metadata, which is not required to subsample the data, but only used when \n",
    "# referring to the actual information about particular pieces (e.g. artist, song name, etc.)\n",
    "# Available here: http://labrosa.ee.columbia.edu/millionsong/sites/default/files/AdditionalFiles/track_metadata.db\n",
    "md_dbfile = os.path.join(TPS_DIR, 'track_metadata.db')\n",
    "\n",
    "tp = pd.read_table(TP_file, header=None, names=['uid', 'sid', 'count'])\n",
    "# We only keep songs that are listened to by at least MIN_SONG_COUNT users and users who have listened \n",
    "# to at least MIN_USER_COUNT songs\n",
    "MIN_USER_COUNT = 20\n",
    "MIN_SONG_COUNT = 50"
   ]
  },
  {
   "cell_type": "code",
   "execution_count": 2,
   "metadata": {
    "collapsed": false
   },
   "outputs": [
    {
     "name": "stdout",
     "output_type": "stream",
     "text": [
      "After filtering, there are 39730795 triplets from 629112 users and 98485 songs (sparsity level 0.064%)\n"
     ]
    }
   ],
   "source": [
    "def get_count(tp, id):\n",
    "    playcount_groupbyid = tp[[id, 'count']].groupby(id, as_index=False)\n",
    "    count = playcount_groupbyid.size()\n",
    "    return count\n",
    "\n",
    "def filter_triplets(tp, min_uc=MIN_USER_COUNT, min_sc=MIN_SONG_COUNT):\n",
    "    # Only keep the triplets for songs which were listened to by at least min_sc users. \n",
    "    songcount = get_count(tp, 'sid')\n",
    "    tp = tp[tp['sid'].isin(songcount.index[songcount >= min_sc])]\n",
    "    \n",
    "    # Only keep the triplets for users who listened to at least min_uc songs\n",
    "    # After doing this, some of the songs will have less than min_uc users, but should only be a small proportion\n",
    "    usercount = get_count(tp, 'uid')\n",
    "    tp = tp[tp['uid'].isin(usercount.index[usercount >= min_uc])]\n",
    "    \n",
    "    # Update both usercount and songcount after filtering\n",
    "    usercount, songcount = get_count(tp, 'uid'), get_count(tp, 'sid') \n",
    "    return tp, usercount, songcount\n",
    "\n",
    "tp, usercount, songcount = filter_triplets(tp)\n",
    "\n",
    "sparsity_level = float(tp.shape[0]) / (usercount.shape[0] * songcount.shape[0])\n",
    "print \"After filtering, there are %d triplets from %d users and %d songs (sparsity level %.3f%%)\" % (tp.shape[0], \n",
    "                                                                                                      usercount.shape[0], \n",
    "                                                                                                      songcount.shape[0], \n",
    "                                                                                                      sparsity_level * 100)\n"
   ]
  },
  {
   "cell_type": "code",
   "execution_count": 3,
   "metadata": {
    "collapsed": false
   },
   "outputs": [
    {
     "name": "stderr",
     "output_type": "stream",
     "text": [
      "/Users/zhouyi/anaconda/lib/python2.7/site-packages/ipykernel/__main__.py:18: FutureWarning: sort is deprecated, use sort_values(inplace=True) for INPLACE sorting\n"
     ]
    },
    {
     "name": "stdout",
     "output_type": "stream",
     "text": [
      "Sehr kosmisch BY Harmonia -- count: 82524\n",
      "Dog Days Are Over (Radio Edit) BY Florence + The Machine -- count: 73359\n",
      "Undo BY Björk -- count: 64711\n",
      "Secrets BY OneRepublic -- count: 62270\n",
      "You're The One BY Dwight Yoakam -- count: 61191\n",
      "Revelry BY Kings Of Leon -- count: 60286\n",
      "Fireflies BY Charttraxx Karaoke -- count: 51811\n",
      "Hey_ Soul Sister BY Train -- count: 51280\n",
      "Horn Concerto No. 4 in E flat K495: II. Romance (Andante cantabile) BY Barry Tuckwell/Academy of St Martin-in-the-Fields/Sir Neville Marriner -- count: 50840\n",
      "Tive Sim BY Cartola -- count: 45128\n"
     ]
    }
   ],
   "source": [
    "# take a look at the User and Songs count\n",
    "import matplotlib.pyplot as plt\n",
    "plt.figure(figsize=(10, 4))\n",
    "usercount.hist(bins=100)\n",
    "plt.xlabel('number of songs each user listens to')\n",
    "\n",
    "plt.figure(figsize=(10, 4))\n",
    "songcount.hist(bins=100)\n",
    "plt.xlabel('number of users by which each song is listened to')\n",
    "\n",
    "# take a look at the top 10 most listened songs\n",
    "def get_song_info_from_sid(conn, sid):\n",
    "    cur = conn.cursor()\n",
    "    cur.execute(\"SELECT title, artist_name FROM songs WHERE song_id = '%s'\" % (sid))\n",
    "    title, artist = cur.fetchone()\n",
    "    return title, artist\n",
    "\n",
    "songcount.sort(ascending=False)\n",
    "\n",
    "with sqlite3.connect(md_dbfile) as conn:\n",
    "    for i in xrange(10):\n",
    "        sid = songcount.index[i]\n",
    "        title, artist = get_song_info_from_sid(conn, sid)\n",
    "        print \"%s BY %s -- count: %d\" % (title, artist, songcount[i])\n"
   ]
  },
  {
   "cell_type": "code",
   "execution_count": 4,
   "metadata": {
    "collapsed": false
   },
   "outputs": [
    {
     "name": "stdout",
     "output_type": "stream",
     "text": [
      "After subsampling and filtering, there are 34147 triplets from 1013 users and 400 songs (sparsity level 8.427%)\n"
     ]
    }
   ],
   "source": [
    "# Subsample a subset     \n",
    "unique_uid = usercount.index\n",
    "\n",
    "np.random.seed(98765)\n",
    "\n",
    "n_users = 10000\n",
    "p_users = usercount / usercount.sum()\n",
    "idx = np.random.choice(len(unique_uid), size=n_users, replace=False, p=p_users.tolist())\n",
    "unique_uid = unique_uid[idx]\n",
    "tp = tp[tp['uid'].isin(unique_uid)]\n",
    "\n",
    "unique_sid = songcount.index\n",
    "n_songs = 1000\n",
    "p_songs = songcount / songcount.sum()\n",
    "idx = np.random.choice(len(unique_sid), size=n_songs, replace=False, p=p_songs.tolist())\n",
    "unique_sid = unique_sid[idx]\n",
    "tp = tp[tp['sid'].isin(unique_sid)]\n",
    "\n",
    "tp, usercount, songcount = filter_triplets(tp, min_uc=MIN_USER_COUNT, min_sc=MIN_SONG_COUNT)\n",
    "unique_uid = usercount.index\n",
    "unique_sid = songcount.index\n",
    "\n",
    "sparsity_level = float(tp.shape[0]) / (usercount.shape[0] * songcount.shape[0])\n",
    "print \"After subsampling and filtering, there are %d triplets from %d users and %d songs (sparsity level %.3f%%)\" % \\\n",
    "(tp.shape[0], usercount.shape[0], songcount.shape[0], sparsity_level * 100)\n",
    "\n",
    "song2id = dict((sid, i) for (i, sid) in enumerate(unique_sid))\n",
    "user2id = dict((uid, i) for (i, uid) in enumerate(unique_uid))\n",
    "\n",
    "with open(os.path.join(TPS_DIR, 'unique_uid_sub.txt'), 'w') as f:\n",
    "    for uid in unique_uid:\n",
    "        f.write('%s\\n' % uid)\n",
    "\n",
    "with open(os.path.join(TPS_DIR, 'unique_sid_sub.txt'), 'w') as f:\n",
    "    for sid in unique_sid:\n",
    "        f.write('%s\\n' % sid)"
   ]
  },
  {
   "cell_type": "code",
   "execution_count": null,
   "metadata": {
    "collapsed": true
   },
   "outputs": [],
   "source": []
  }
 ],
 "metadata": {
  "kernelspec": {
   "display_name": "Python 2",
   "language": "python",
   "name": "python2"
  },
  "language_info": {
   "codemirror_mode": {
    "name": "ipython",
    "version": 2
   },
   "file_extension": ".py",
   "mimetype": "text/x-python",
   "name": "python",
   "nbconvert_exporter": "python",
   "pygments_lexer": "ipython2",
   "version": "2.7.13"
  }
 },
 "nbformat": 4,
 "nbformat_minor": 2
}
