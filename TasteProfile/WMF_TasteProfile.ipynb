{
 "cells": [
  {
   "cell_type": "code",
   "execution_count": 1,
   "metadata": {
    "collapsed": true
   },
   "outputs": [],
   "source": [
    "#!/usr/bin/env python2\n",
    "# -*- coding: utf-8 -*-\n",
    "\"\"\"\n",
    "Created on Wed May  3 11:18:16 2017\n",
    "\n",
    "@author: zhouyi\n",
    "\"\"\"\n",
    "\n",
    "import glob\n",
    "import os\n",
    "import sys\n",
    "\n",
    "import implicit\n",
    "import pandas as pd\n",
    "import numpy as np\n",
    "import matplotlib\n",
    "import matplotlib.pyplot as plt\n",
    "import scipy.sparse\n",
    "\n",
    "import evaluation\n",
    "\n",
    "DATA_ROOT = '/Users/zhouyi/Documents/GraduatePJ/MSD'"
   ]
  },
  {
   "cell_type": "code",
   "execution_count": 2,
   "metadata": {
    "collapsed": true
   },
   "outputs": [],
   "source": [
    "unique_uid = list()\n",
    "with open(os.path.join(DATA_ROOT, 'unique_uid_sub.txt'), 'r') as f:\n",
    "    for line in f:\n",
    "        unique_uid.append(line.strip())\n",
    "        \n",
    "unique_sid = list()\n",
    "with open(os.path.join(DATA_ROOT, 'unique_sid_sub.txt'), 'r') as f:\n",
    "    for line in f:\n",
    "        unique_sid.append(line.strip())\n",
    "\n",
    "n_songs = len(unique_sid)\n",
    "n_users = len(unique_uid)"
   ]
  },
  {
   "cell_type": "code",
   "execution_count": 3,
   "metadata": {
    "collapsed": false
   },
   "outputs": [
    {
     "name": "stdout",
     "output_type": "stream",
     "text": [
      "train_data.shape: (400, 1013)\n",
      "train_data entries: (24587,)\n",
      "vad__data.shape: (400, 1013)\n",
      "vad_data entries: (2731,)\n",
      "test_data.shape: (400, 1013)\n",
      "test_data entries: (6829,)\n",
      "sparse according to vad_data: 0.00673988153998\n"
     ]
    }
   ],
   "source": [
    "def load_data(csv_file, shape=(n_songs, n_users)):\n",
    "    st = pd.read_csv(csv_file)\n",
    "    cols, rows = np.array(st['uid'], dtype=np.int32), np.array(st['sid'], dtype=np.int32)\n",
    "    count = st['count']\n",
    "    return scipy.sparse.csr_matrix((count,(rows, cols)), dtype=np.int16, shape=shape), rows, cols\n",
    "\n",
    "train_data, rows, cols = load_data(os.path.join(DATA_ROOT, 'train.num.sub.csv'))\n",
    "print 'train_data.shape:',train_data.shape\n",
    "print 'train_data entries:',train_data.data.shape\n",
    "\n",
    "vad_data, rows_vad, cols_vad = load_data(os.path.join(DATA_ROOT, 'vad.num.sub.csv'))\n",
    "print 'vad__data.shape:',vad_data.shape\n",
    "print 'vad_data entries:',vad_data.data.shape\n",
    "\n",
    "test_data, rows_test, cols_test = load_data(os.path.join(DATA_ROOT, 'test.num.sub.csv'))\n",
    "print 'test_data.shape:',test_data.shape\n",
    "print 'test_data entries:',test_data.data.shape\n",
    "\n",
    "print 'sparse according to vad_data:',float(vad_data.data.shape[0])/(vad_data.shape[0]*vad_data.shape[1])"
   ]
  },
  {
   "cell_type": "code",
   "execution_count": 4,
   "metadata": {
    "collapsed": true
   },
   "outputs": [],
   "source": [
    "def myEvaluation(model,X,vad_data):\n",
    "\n",
    "    vad_recall_at_k = evaluation.Recall_at_k(X.T, vad_data.T,\n",
    "                                                model.user_factors,\n",
    "                                                model.item_factors,\n",
    "                                                k=20)\n",
    "        \n",
    "    vad_map_at_k = evaluation.MAP_at_k(X.T, vad_data.T,\n",
    "                                                model.user_factors,\n",
    "                                                model.item_factors,\n",
    "                                                k=20)\n",
    "        \n",
    "    vad_ndcg_at_k = evaluation.NDCG_at_k(X.T, vad_data.T,\n",
    "                                                model.user_factors,\n",
    "                                                model.item_factors,\n",
    "                                                k=20)\n",
    "    return vad_ndcg_at_k,vad_recall_at_k,vad_map_at_k\n",
    "    "
   ]
  },
  {
   "cell_type": "code",
   "execution_count": 5,
   "metadata": {
    "collapsed": false
   },
   "outputs": [
    {
     "name": "stdout",
     "output_type": "stream",
     "text": [
      "---RAW---\n",
      "Validation NDGC@K 0.0225686670772\n",
      "Validation Recall@K 0.194703914052\n",
      "Validation MAP@K 0.0200506254484\n",
      "Test NDGC@K 0.0603278446033\n",
      "Test Recall@K 0.233041945486\n",
      "Test MAP@K 0.0526991111156\n"
     ]
    }
   ],
   "source": [
    "# initialize a model\n",
    "print \"---RAW---\"\n",
    "model = implicit.als.AlternatingLeastSquares(factors=25)\n",
    "model.fit(train_data.astype(np.double))\n",
    "\n",
    "VAD_RECORD=myEvaluation(model,train_data,vad_data)\n",
    "print \"Validation NDGC@K\",VAD_RECORD[0]\n",
    "print \"Validation Recall@K\",VAD_RECORD[1]\n",
    "print \"Validation MAP@K\",VAD_RECORD[2]\n",
    "\n",
    "    \n",
    "TEST_RECORD=myEvaluation(model,train_data,test_data)\n",
    "print \"Test NDGC@K\",TEST_RECORD[0]\n",
    "print \"Test Recall@K\",TEST_RECORD[1]\n",
    "print \"Test MAP@K\",TEST_RECORD[2]"
   ]
  },
  {
   "cell_type": "code",
   "execution_count": null,
   "metadata": {
    "collapsed": true
   },
   "outputs": [],
   "source": []
  }
 ],
 "metadata": {
  "kernelspec": {
   "display_name": "Python 2",
   "language": "python",
   "name": "python2"
  },
  "language_info": {
   "codemirror_mode": {
    "name": "ipython",
    "version": 2
   },
   "file_extension": ".py",
   "mimetype": "text/x-python",
   "name": "python",
   "nbconvert_exporter": "python",
   "pygments_lexer": "ipython2",
   "version": "2.7.13"
  }
 },
 "nbformat": 4,
 "nbformat_minor": 2
}
