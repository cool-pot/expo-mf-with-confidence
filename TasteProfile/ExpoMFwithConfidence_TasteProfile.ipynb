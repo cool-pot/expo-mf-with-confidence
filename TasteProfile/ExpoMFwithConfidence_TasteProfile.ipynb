{
 "cells": [
  {
   "cell_type": "code",
   "execution_count": 1,
   "metadata": {
    "collapsed": true
   },
   "outputs": [],
   "source": [
    "#!/usr/bin/env python2\n",
    "# -*- coding: utf-8 -*-\n",
    "\"\"\"\n",
    "Created on Fri May  5 22:47:01 2017\n",
    "\n",
    "@author: zhouyi\n",
    "\"\"\"\n",
    "\n",
    "import glob\n",
    "import os\n",
    "import sys\n",
    "\n",
    "import numpy as np\n",
    "import matplotlib\n",
    "import matplotlib.pyplot as plt\n",
    "import scipy.sparse\n",
    "import pandas as pd\n",
    "\n",
    "\n",
    "import confidence_expomf\n",
    "import evaluation\n",
    "\n",
    "DATA_ROOT = '/Users/zhouyi/Documents/GraduatePJ/MSD'"
   ]
  },
  {
   "cell_type": "code",
   "execution_count": 2,
   "metadata": {
    "collapsed": true
   },
   "outputs": [],
   "source": [
    "unique_uid = list()\n",
    "with open(os.path.join(DATA_ROOT, 'unique_uid_sub.txt'), 'r') as f:\n",
    "    for line in f:\n",
    "        unique_uid.append(line.strip())\n",
    "        \n",
    "unique_sid = list()\n",
    "with open(os.path.join(DATA_ROOT, 'unique_sid_sub.txt'), 'r') as f:\n",
    "    for line in f:\n",
    "        unique_sid.append(line.strip())\n",
    "\n",
    "n_songs = len(unique_sid)\n",
    "n_users = len(unique_uid)"
   ]
  },
  {
   "cell_type": "code",
   "execution_count": 3,
   "metadata": {
    "collapsed": false
   },
   "outputs": [
    {
     "name": "stdout",
     "output_type": "stream",
     "text": [
      "train_data.shape: (1013, 400)\n",
      "train_data entries: (24587,)\n",
      "vad__data.shape: (1013, 400)\n",
      "vad_data entries: (2731,)\n",
      "test_data.shape: (1013, 400)\n",
      "test_data entries: (6829,)\n",
      "sparse according to vad_data: 0.00673988153998\n",
      "sparse according to all 0.084271964462\n"
     ]
    }
   ],
   "source": [
    "#Load the data and train the model\n",
    "def load_data(csv_file, shape=(n_users, n_songs)):\n",
    "    tp = pd.read_csv(csv_file)\n",
    "    rows, cols = np.array(tp['uid'], dtype=np.int32), np.array(tp['sid'], dtype=np.int32)\n",
    "    count = tp['count']\n",
    "    return scipy.sparse.csr_matrix((count,(rows, cols)), dtype=np.int16, shape=shape), rows, cols\n",
    "\n",
    "train_data, rows, cols = load_data(os.path.join(DATA_ROOT, 'train.num.sub.csv'))\n",
    "\n",
    "raw_train_data=train_data\n",
    "## binarize the data\n",
    "#train_data.data = np.ones_like(train_data.data)\n",
    "print 'train_data.shape:',train_data.shape\n",
    "print 'train_data entries:',train_data.data.shape\n",
    "\n",
    "vad_data, rows_vad, cols_vad = load_data(os.path.join(DATA_ROOT, 'vad.num.sub.csv'))\n",
    "## binarize the data\n",
    "vad_data.data = np.ones_like(vad_data.data)\n",
    "print 'vad__data.shape:',vad_data.shape\n",
    "print 'vad_data entries:',vad_data.data.shape\n",
    "test_data, rows_test, cols_test = load_data(os.path.join(DATA_ROOT, 'test.num.sub.csv'))\n",
    "## binarize the data\n",
    "test_data.data = np.ones_like(test_data.data)\n",
    "print 'test_data.shape:',test_data.shape\n",
    "print 'test_data entries:',test_data.data.shape\n",
    "print 'sparse according to vad_data:',float(vad_data.data.shape[0])/(vad_data.shape[0]*vad_data.shape[1])\n",
    "print 'sparse according to all',float(vad_data.data.shape[0]+raw_train_data.data.shape[0]+test_data.data.shape[0])/(vad_data.shape[0]*vad_data.shape[1])\n"
   ]
  },
  {
   "cell_type": "code",
   "execution_count": 4,
   "metadata": {
    "collapsed": true
   },
   "outputs": [],
   "source": [
    "def myEvaluation(model,X,vad_data):\n",
    "\n",
    "    vad_recall_at_k = evaluation.Recall_at_k(X, vad_data,\n",
    "                                                model.theta,\n",
    "                                                model.beta,\n",
    "                                                k=20)\n",
    "        \n",
    "    vad_map_at_k = evaluation.MAP_at_k(X, vad_data,\n",
    "                                                model.theta,\n",
    "                                                model.beta,\n",
    "                                                k=20)\n",
    "        \n",
    "    vad_ndcg_at_k = evaluation.NDCG_at_k(X, vad_data,\n",
    "                                                model.theta,\n",
    "                                                model.beta,\n",
    "                                                k=20)\n",
    "    return vad_ndcg_at_k,vad_recall_at_k,vad_map_at_k"
   ]
  },
  {
   "cell_type": "code",
   "execution_count": 5,
   "metadata": {
    "collapsed": false
   },
   "outputs": [
    {
     "name": "stdout",
     "output_type": "stream",
     "text": [
      "model.theta.shape (1013, 25)\n",
      "model.beta.shape (400, 25)\n",
      "model.mu.shape (400,)\n",
      "model.A.shape (1013, 400)\n",
      "ROUND 0\n",
      "---updating A---\n",
      "---updating factors!---\n",
      "---updating confidence_perItem_U!---\n",
      "\tValidation NDCG@k: 0.01476\n",
      "\tValidation Recall@k: 0.09510\n",
      "\tValidation MAP@k: 0.01555\n",
      "ROUND 1\n",
      "---updating A---\n",
      "---updating factors!---\n",
      "---updating confidence_perItem_U!---\n",
      "\tValidation NDCG@k: 0.02076\n",
      "\tValidation Recall@k: 0.13232\n",
      "\tValidation MAP@k: 0.02188\n",
      "ROUND 2\n",
      "---updating A---\n",
      "---updating factors!---\n",
      "---updating confidence_perItem_U!---\n",
      "\tValidation NDCG@k: 0.02359\n",
      "\tValidation Recall@k: 0.15949\n",
      "\tValidation MAP@k: 0.02410\n",
      "ROUND 3\n",
      "---updating A---\n",
      "---updating factors!---\n",
      "---updating confidence_perItem_U!---\n",
      "\tValidation NDCG@k: 0.02625\n",
      "\tValidation Recall@k: 0.18999\n",
      "\tValidation MAP@k: 0.02620\n",
      "ROUND 4\n",
      "---updating A---\n",
      "---updating factors!---\n",
      "---updating confidence_perItem_U!---\n",
      "\tValidation NDCG@k: 0.02828\n",
      "\tValidation Recall@k: 0.20763\n",
      "\tValidation MAP@k: 0.02800\n",
      "ROUND 5\n",
      "---updating A---\n",
      "---updating factors!---\n",
      "---updating confidence_perItem_U!---\n",
      "\tValidation NDCG@k: 0.02976\n",
      "\tValidation Recall@k: 0.21059\n",
      "\tValidation MAP@k: 0.02952\n",
      "ROUND 6\n",
      "---updating A---\n",
      "---updating factors!---\n",
      "---updating confidence_perItem_U!---\n",
      "\tValidation NDCG@k: 0.03065\n",
      "\tValidation Recall@k: 0.21824\n",
      "\tValidation MAP@k: 0.03030\n",
      "ROUND 7\n",
      "---updating A---\n",
      "---updating factors!---\n",
      "---updating confidence_perItem_U!---\n",
      "\tValidation NDCG@k: 0.03150\n",
      "\tValidation Recall@k: 0.22382\n",
      "\tValidation MAP@k: 0.03093\n",
      "ROUND 8\n",
      "---updating A---\n",
      "---updating factors!---\n",
      "---updating confidence_perItem_U!---\n",
      "\tValidation NDCG@k: 0.03155\n",
      "\tValidation Recall@k: 0.22912\n",
      "\tValidation MAP@k: 0.03100\n",
      "ROUND 9\n",
      "---updating A---\n",
      "---updating factors!---\n",
      "---updating confidence_perItem_U!---\n",
      "\tValidation NDCG@k: 0.03143\n",
      "\tValidation Recall@k: 0.22845\n",
      "\tValidation MAP@k: 0.03094\n",
      "ROUND 10\n",
      "---updating A---\n",
      "---updating factors!---\n",
      "---updating confidence_perItem_U!---\n",
      "\tValidation NDCG@k: 0.03127\n",
      "\tValidation Recall@k: 0.22730\n",
      "\tValidation MAP@k: 0.03094\n",
      "ROUND 11\n",
      "---updating A---\n",
      "---updating factors!---\n",
      "---updating confidence_perItem_U!---\n",
      "\tValidation NDCG@k: 0.03087\n",
      "\tValidation Recall@k: 0.22490\n",
      "\tValidation MAP@k: 0.03084\n",
      "ROUND 12\n",
      "---updating A---\n",
      "---updating factors!---\n",
      "---updating confidence_perItem_U!---\n",
      "\tValidation NDCG@k: 0.03052\n",
      "\tValidation Recall@k: 0.22179\n",
      "\tValidation MAP@k: 0.03053\n",
      "ROUND 13\n",
      "---updating A---\n",
      "---updating factors!---\n",
      "---updating confidence_perItem_U!---\n",
      "\tValidation NDCG@k: 0.03037\n",
      "\tValidation Recall@k: 0.22331\n",
      "\tValidation MAP@k: 0.03031\n",
      "ROUND 14\n",
      "---updating A---\n",
      "---updating factors!---\n",
      "---updating confidence_perItem_U!---\n",
      "\tValidation NDCG@k: 0.03028\n",
      "\tValidation Recall@k: 0.22337\n",
      "\tValidation MAP@k: 0.03018\n"
     ]
    }
   ],
   "source": [
    "confidence_model=confidence_expomf.CONFIDENCE_EXPO_MF(n_components=25)\n",
    "bi_train_data=confidence_model.binarize(raw_train_data)\n",
    "record_cof=confidence_model.fit_with_confidence(bi_train_data,Raw=raw_train_data,vad_data=vad_data,MAX_ITERATION=15)"
   ]
  },
  {
   "cell_type": "code",
   "execution_count": 6,
   "metadata": {
    "collapsed": false
   },
   "outputs": [
    {
     "data": {
      "text/plain": [
       "'More Results are summarized here:\\n\\nTest NDGC@K 0.075833041714\\nTest Recall@K 0.240949576877\\nTest MAP@K 0.0762600971087\\n'"
      ]
     },
     "execution_count": 6,
     "metadata": {},
     "output_type": "execute_result"
    }
   ],
   "source": [
    "'''More Results are summarized here:\n",
    "\n",
    "Test NDGC@K 0.075833041714\n",
    "Test Recall@K 0.240949576877\n",
    "Test MAP@K 0.0762600971087\n",
    "'''"
   ]
  },
  {
   "cell_type": "code",
   "execution_count": null,
   "metadata": {
    "collapsed": true
   },
   "outputs": [],
   "source": []
  }
 ],
 "metadata": {
  "kernelspec": {
   "display_name": "Python 2",
   "language": "python",
   "name": "python2"
  },
  "language_info": {
   "codemirror_mode": {
    "name": "ipython",
    "version": 2
   },
   "file_extension": ".py",
   "mimetype": "text/x-python",
   "name": "python",
   "nbconvert_exporter": "python",
   "pygments_lexer": "ipython2",
   "version": "2.7.13"
  }
 },
 "nbformat": 4,
 "nbformat_minor": 2
}
