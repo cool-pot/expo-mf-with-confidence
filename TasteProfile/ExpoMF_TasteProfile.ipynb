{
 "cells": [
  {
   "cell_type": "code",
   "execution_count": 1,
   "metadata": {
    "collapsed": true
   },
   "outputs": [],
   "source": [
    "#!/usr/bin/env python2\n",
    "# -*- coding: utf-8 -*-\n",
    "\"\"\"\n",
    "Created on Fri Apr 14 15:38:06 2017\n",
    "\n",
    "@author: zhouyi\n",
    "\"\"\"\n",
    "\n",
    "import glob\n",
    "import os\n",
    "import sys\n",
    "\n",
    "import numpy as np\n",
    "import matplotlib\n",
    "import matplotlib.pyplot as plt\n",
    "import scipy.sparse\n",
    "import pandas as pd\n",
    "\n",
    "import expomf"
   ]
  },
  {
   "cell_type": "code",
   "execution_count": 2,
   "metadata": {
    "collapsed": true
   },
   "outputs": [],
   "source": [
    "DATA_ROOT = '/Users/zhouyi/Documents/GraduatePJ/MSD'\n",
    "\n",
    "unique_uid = list()\n",
    "with open(os.path.join(DATA_ROOT, 'unique_uid_sub.txt'), 'r') as f:\n",
    "    for line in f:\n",
    "        unique_uid.append(line.strip())\n",
    "        \n",
    "unique_sid = list()\n",
    "with open(os.path.join(DATA_ROOT, 'unique_sid_sub.txt'), 'r') as f:\n",
    "    for line in f:\n",
    "        unique_sid.append(line.strip())\n",
    "\n",
    "n_songs = len(unique_sid)\n",
    "n_users = len(unique_uid)"
   ]
  },
  {
   "cell_type": "code",
   "execution_count": 3,
   "metadata": {
    "collapsed": false
   },
   "outputs": [
    {
     "name": "stdout",
     "output_type": "stream",
     "text": [
      "train_data.shape: (1013, 400)\n",
      "train_data entries: (24587,)\n",
      "vad__data.shape: (1013, 400)\n",
      "vad_data entries: (2731,)\n",
      "test_data.shape: (1013, 400)\n",
      "test_data entries: (6829,)\n",
      "sparse according to vad_data: 0.00673988153998\n"
     ]
    }
   ],
   "source": [
    "#Load the data and train the model\n",
    "def load_data(csv_file, shape=(n_users, n_songs)):\n",
    "    tp = pd.read_csv(csv_file)\n",
    "    rows, cols = np.array(tp['uid'], dtype=np.int32), np.array(tp['sid'], dtype=np.int32)\n",
    "    count = tp['count']\n",
    "    return scipy.sparse.csr_matrix((count,(rows, cols)), dtype=np.int16, shape=shape), rows, cols\n",
    "\n",
    "train_data, rows, cols = load_data(os.path.join(DATA_ROOT, 'train.num.sub.csv'))\n",
    "## binarize the data\n",
    "train_data.data = np.ones_like(train_data.data)\n",
    "print 'train_data.shape:',train_data.shape\n",
    "print 'train_data entries:',train_data.data.shape\n",
    "\n",
    "vad_data, rows_vad, cols_vad = load_data(os.path.join(DATA_ROOT, 'vad.num.sub.csv'))\n",
    "## binarize the data\n",
    "vad_data.data = np.ones_like(vad_data.data)\n",
    "print 'vad__data.shape:',vad_data.shape\n",
    "print 'vad_data entries:',vad_data.data.shape\n",
    "test_data, rows_test, cols_test = load_data(os.path.join(DATA_ROOT, 'test.num.sub.csv'))\n",
    "## binarize the data\n",
    "test_data.data = np.ones_like(test_data.data)\n",
    "print 'test_data.shape:',test_data.shape\n",
    "print 'test_data entries:',test_data.data.shape\n",
    "print 'sparse according to vad_data:',float(vad_data.data.shape[0])/(vad_data.shape[0]*vad_data.shape[1])"
   ]
  },
  {
   "cell_type": "code",
   "execution_count": 5,
   "metadata": {
    "collapsed": false
   },
   "outputs": [
    {
     "name": "stdout",
     "output_type": "stream",
     "text": [
      "ITERATION #0\n",
      "\tUpdating user factors: time=0.50\n",
      "\tUpdating item factors: time=0.54\n",
      "\tUpdating exposure prior: time=0.05\n",
      "\tValidation NDCG@k: 0.0106\n",
      "ITERATION #1\n",
      "\tUpdating user factors: time=0.44\n",
      "\tUpdating item factors: time=0.43\n",
      "\tUpdating exposure prior: time=0.06\n",
      "\tValidation NDCG@k: 0.0153\n",
      "ITERATION #2\n",
      "\tUpdating user factors: time=0.58\n",
      "\tUpdating item factors: time=0.53\n",
      "\tUpdating exposure prior: time=0.06\n",
      "\tValidation NDCG@k: 0.0163\n",
      "ITERATION #3\n",
      "\tUpdating user factors: time=0.44\n",
      "\tUpdating item factors: time=0.43\n",
      "\tUpdating exposure prior: time=0.06\n",
      "\tValidation NDCG@k: 0.0172\n",
      "ITERATION #4\n",
      "\tUpdating user factors: time=0.68\n",
      "\tUpdating item factors: time=0.63\n",
      "\tUpdating exposure prior: time=0.09\n",
      "\tValidation NDCG@k: 0.0185\n",
      "ITERATION #5\n",
      "\tUpdating user factors: time=0.43\n",
      "\tUpdating item factors: time=0.47\n",
      "\tUpdating exposure prior: time=0.07\n",
      "\tValidation NDCG@k: 0.0192\n",
      "ITERATION #6\n",
      "\tUpdating user factors: time=0.51\n",
      "\tUpdating item factors: time=0.45\n",
      "\tUpdating exposure prior: time=0.07\n",
      "\tValidation NDCG@k: 0.0198\n",
      "ITERATION #7\n",
      "\tUpdating user factors: time=0.44\n",
      "\tUpdating item factors: time=0.46\n",
      "\tUpdating exposure prior: time=0.09\n",
      "\tValidation NDCG@k: 0.0201\n",
      "ITERATION #8\n",
      "\tUpdating user factors: time=0.48\n",
      "\tUpdating item factors: time=0.60\n",
      "\tUpdating exposure prior: time=0.06\n",
      "\tValidation NDCG@k: 0.0199\n"
     ]
    },
    {
     "data": {
      "text/plain": [
       "ExpoMF(batch_size=10, early_stopping=True, init_std=0.01, max_iter=20,\n",
       "    n_components=25, n_jobs=10, random_state=98765,\n",
       "    save_dir='ExpoMF_TSP_K25_lam1E-05_initmu7E-03', save_params=True,\n",
       "    verbose=True)"
      ]
     },
     "execution_count": 5,
     "metadata": {},
     "output_type": "execute_result"
    }
   ],
   "source": [
    "n_components = 25\n",
    "max_iter = 20\n",
    "n_jobs = 10\n",
    "# grid search on init_mu = {0.1, 0.05, 0.01, 0.005, 0.001} from validation set\n",
    "init_mu = 0.0067\n",
    "lam = 1e-5\n",
    "\n",
    "save_dir=\"ExpoMF_TSP_K%d_lam%1.0E_initmu%1.0E\" % (n_components, lam, init_mu)\n",
    "\n",
    "coder = expomf.ExpoMF(n_components=n_components, max_iter=max_iter, batch_size=10, init_std=0.01, \n",
    "                      n_jobs=n_jobs, random_state=98765, save_params=True, \n",
    "                      save_dir=save_dir, early_stopping=True, verbose=True, \n",
    "                      lam_y=1., lam_theta=lam, lam_beta=lam, a=1., b=1., init_mu=init_mu)\n",
    "\n",
    "coder.fit(train_data, vad_data=vad_data, k=20)"
   ]
  }
 ],
 "metadata": {
  "kernelspec": {
   "display_name": "Python 2",
   "language": "python",
   "name": "python2"
  },
  "language_info": {
   "codemirror_mode": {
    "name": "ipython",
    "version": 2
   },
   "file_extension": ".py",
   "mimetype": "text/x-python",
   "name": "python",
   "nbconvert_exporter": "python",
   "pygments_lexer": "ipython2",
   "version": "2.7.13"
  }
 },
 "nbformat": 4,
 "nbformat_minor": 2
}
